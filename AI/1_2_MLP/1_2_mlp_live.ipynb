{
 "cells": [
  {
   "cell_type": "markdown",
   "metadata": {},
   "source": [
    "# Tensor\n",
    "\n",
    "numpy의 ndarray 처럼 여러 데이터를 동시에 다루며 PyTorch의 autograd 등 머신러닝에 도움되는 기능을 가지고 있음"
   ]
  },
  {
   "cell_type": "code",
   "execution_count": null,
   "metadata": {
    "colab": {
     "base_uri": "https://localhost:8080/"
    },
    "executionInfo": {
     "elapsed": 99,
     "status": "ok",
     "timestamp": 1760501610258,
     "user": {
      "displayName": "jeeho park",
      "userId": "02090712094119266150"
     },
     "user_tz": -540
    },
    "id": "WQJVZn7igskI",
    "outputId": "632d0209-7d88-4ff9-8672-ab811e90529c"
   },
   "outputs": [],
   "source": [
    "# PyTorch\n",
    "import torch\n",
    "\n",
    "\"\"\"\n",
    "torch의 텐서\n",
    "\"\"\"\n",
    "x = torch.rand(3, 3)\n",
    "y = torch.ones(3, 3)\n",
    "print(x)\n",
    "print(x.T)\n",
    "print(y)\n",
    "print(x + y)\n",
    "print(x @ y)"
   ]
  },
  {
   "cell_type": "code",
   "execution_count": null,
   "metadata": {
    "colab": {
     "base_uri": "https://localhost:8080/"
    },
    "executionInfo": {
     "elapsed": 4,
     "status": "ok",
     "timestamp": 1760501610264,
     "user": {
      "displayName": "jeeho park",
      "userId": "02090712094119266150"
     },
     "user_tz": -540
    },
    "id": "kOb03zaphosY",
    "outputId": "4996e0a2-2802-41c4-8986-45c3de3b6661"
   },
   "outputs": [],
   "source": [
    "\"\"\"\n",
    "역전파: backward\n",
    "\"\"\"\n",
    "x = torch.tensor([2.0, 3.0], requires_grad=True)\n",
    "y = x ** 2 + 3 * x + 1\n",
    "z = y.sum()\n",
    "# back propagation\n",
    "z.backward()\n",
    "# 역전파된 기울기는 .grad에서 확인 가능\n",
    "print(x.grad)\n"
   ]
  },
  {
   "cell_type": "markdown",
   "metadata": {},
   "source": [
    "## 실습 준비\n",
    "\n",
    "장치 설정 및 난수 고정"
   ]
  },
  {
   "cell_type": "code",
   "execution_count": null,
   "metadata": {
    "colab": {
     "base_uri": "https://localhost:8080/"
    },
    "executionInfo": {
     "elapsed": 15,
     "status": "ok",
     "timestamp": 1760501610295,
     "user": {
      "displayName": "jeeho park",
      "userId": "02090712094119266150"
     },
     "user_tz": -540
    },
    "id": "A-UA3mOJjAPx",
    "outputId": "7825d2d9-e7ea-4017-f236-846716a505cf"
   },
   "outputs": [],
   "source": [
    "# 장치 관리\n",
    "device = 'cpu'\n",
    "# windows - cuda\n",
    "if torch.cuda.is_available():\n",
    "    device = torch.device('cuda')\n",
    "# apple silicon - mps\n",
    "if torch.mps.is_available():\n",
    "    device = torch.device('mps')\n",
    "print(device)\n",
    "\n",
    "# x.to(device)"
   ]
  },
  {
   "cell_type": "code",
   "execution_count": null,
   "metadata": {
    "executionInfo": {
     "elapsed": 48,
     "status": "ok",
     "timestamp": 1760501610347,
     "user": {
      "displayName": "jeeho park",
      "userId": "02090712094119266150"
     },
     "user_tz": -540
    },
    "id": "P8L6GSa2kOQW"
   },
   "outputs": [],
   "source": [
    "# 난수 고정\n",
    "import numpy as np\n",
    "import random\n",
    "SEED = 42\n",
    "torch.manual_seed(SEED)\n",
    "np.random.seed(SEED)\n",
    "random.seed(SEED)\n",
    "\n",
    "# windows - cuda\n",
    "if torch.cuda.is_available():\n",
    "    torch.cuda.manual_seed(SEED)\n",
    "    torch.backends.cudnn.deterministic = True\n",
    "    torch.backends.cudnn.benchmark = False\n",
    "\n",
    "# apple silicon - mps\n",
    "if torch.mps.is_available():\n",
    "    torch.mps.manual_seed(SEED)\n",
    "    torch.use_deterministic_algorithms(True, warn_only=True)"
   ]
  },
  {
   "cell_type": "markdown",
   "metadata": {},
   "source": [
    "# PyTorch로 ML"
   ]
  },
  {
   "cell_type": "markdown",
   "metadata": {},
   "source": [
    "## 선형 회귀 모델 만들기"
   ]
  },
  {
   "cell_type": "code",
   "execution_count": null,
   "metadata": {
    "colab": {
     "base_uri": "https://localhost:8080/"
    },
    "executionInfo": {
     "elapsed": 171,
     "status": "ok",
     "timestamp": 1760501610517,
     "user": {
      "displayName": "jeeho park",
      "userId": "02090712094119266150"
     },
     "user_tz": -540
    },
    "id": "NF16g-u2lICO",
    "outputId": "64ea9e80-464d-4cbf-a7f8-566aea5c2b20"
   },
   "outputs": [],
   "source": [
    "\"\"\"\n",
    "선형 회귀 모델을 PyTorch로 구현\n",
    "\"\"\"\n",
    "from torch import nn\n",
    "from torch import optim\n",
    "\n",
    "# 더미 데이터 생성\n",
    "X = torch.linspace(0, 10, 100).unsqueeze(1)\n",
    "y_true = 2 * X + 1 + 0.5 * torch.randn_like(X)\n",
    "\n",
    "# 1차원 입력, 1차원 출력의 선형 모델을 만들것이다\n",
    "model = nn.Linear(1, 1)\n",
    "# 비용 함수는 MSE를 쓸거다\n",
    "criterion = nn.MSELoss()\n",
    "# SGD로 파라미러를 갱신할거다\n",
    "optimizer = optim.SGD(model.parameters(), lr=0.01)\n",
    "\n",
    "# 학습 시작\n",
    "epochs = 200\n",
    "for epoch in range(epochs):\n",
    "    # 기울기 초기화\n",
    "    optimizer.zero_grad()\n",
    "\n",
    "    # 예측 진행\n",
    "    y_pred = model(X)\n",
    "    # 손실 계산\n",
    "    loss = criterion(y_pred, y_true)\n",
    "    # 비용의 미분 계산\n",
    "    loss.backward()\n",
    "    # 매개변수 업데이트\n",
    "    optimizer.step()\n",
    "    # 20번의 학습마다 기록\n",
    "    if (epoch + 1) % 20 == 0:\n",
    "        print(f'Epoch [{epoch+1}/{epochs}], Loss: {loss.item():.4f}')\n",
    "\n",
    "print('학습된 가중치 + 편향')\n",
    "for name, param in model.named_parameters():\n",
    "    print(f'{name}: {param.data}')\n"
   ]
  },
  {
   "cell_type": "markdown",
   "metadata": {},
   "source": [
    "### 시각화"
   ]
  },
  {
   "cell_type": "code",
   "execution_count": null,
   "metadata": {
    "colab": {
     "base_uri": "https://localhost:8080/",
     "height": 582
    },
    "executionInfo": {
     "elapsed": 429,
     "status": "ok",
     "timestamp": 1760501610958,
     "user": {
      "displayName": "jeeho park",
      "userId": "02090712094119266150"
     },
     "user_tz": -540
    },
    "id": "tyMjkVv0lunt",
    "outputId": "e779c3cd-93b8-405d-dbf2-66c031289f2d"
   },
   "outputs": [],
   "source": [
    "# 실제 데이터와 회귀선 비교\n",
    "def show_data():\n",
    "    X_np = X.squeeze().numpy()\n",
    "    y_true_np = y_true.squeeze().numpy()\n",
    "    w_learned = model.weight.item()\n",
    "    b_learned = model.bias.item()\n",
    "    print(w_learned, b_learned)\n",
    "    y_line_np = w_learned * X_np + b_learned\n",
    "\n",
    "    import matplotlib.pyplot as plt\n",
    "    plt.figure(figsize=(8, 6))\n",
    "    plt.scatter(X_np, y_true_np, s=20, color='b', alpha=0.6, label='Synthetic Data')\n",
    "    plt.plot(X_np, y_line_np, color='red', linewidth=2, label=f'Learned Model')\n",
    "\n",
    "    plt.title('Dummy Data')\n",
    "    plt.xlabel('X (Feature)')\n",
    "    plt.ylabel('y_true (Label)')\n",
    "    plt.legend()\n",
    "    plt.grid(True, linestyle='--', alpha=0.7)\n",
    "    plt.show()\n",
    "show_data()"
   ]
  },
  {
   "cell_type": "markdown",
   "metadata": {},
   "source": [
    "## MLP 만들기"
   ]
  },
  {
   "cell_type": "code",
   "execution_count": null,
   "metadata": {
    "colab": {
     "base_uri": "https://localhost:8080/"
    },
    "executionInfo": {
     "elapsed": 22,
     "status": "ok",
     "timestamp": 1760501610982,
     "user": {
      "displayName": "jeeho park",
      "userId": "02090712094119266150"
     },
     "user_tz": -540
    },
    "id": "6EZxx731oYHa",
    "outputId": "d2a9d43c-e0a2-456b-bfba-8d30ae13e35e"
   },
   "outputs": [],
   "source": [
    "\"\"\"\n",
    "입력 - 은닉 - 출력 구조의 MLP 만들기\n",
    "\"\"\"\n",
    "import torch\n",
    "from torch import nn\n",
    "\n",
    "# 어떤 계층을 넣을지를 결정해서 층 구조를 class로 정의\n",
    "class SimpleMLP(nn.Module):  # __call__\n",
    "    # 각 층의 뉴런의 갯수는 인스턴스를 만들때 결정\n",
    "    def __init__(self, input_dim, hidden_dim, output_dim):\n",
    "        super().__init__()\n",
    "\n",
    "        self.fc1 = nn.Linear(input_dim, hidden_dim)\n",
    "        self.relu = nn.ReLU()\n",
    "        self.fc2 = nn.Linear(hidden_dim, output_dim)\n",
    "\n",
    "    # nn.Module()의 __call__이 호출될 때 자동으로 호출\n",
    "    def forward(self, x):\n",
    "        # 각 층을 순차적으로 호출\n",
    "        x = self.fc1(x)\n",
    "        x = self.relu(x)\n",
    "        x = self.fc2(x)\n",
    "        return x\n",
    "\n",
    "\n",
    "class SequentialMLP(nn.Module):\n",
    "    def __init__(self, input_dim, hidden_dim, output_dim):\n",
    "        super().__init__()\n",
    "\n",
    "        # 각 층을 순차적으로 쌓는다.\n",
    "        self.layers = nn.Sequential(\n",
    "            nn.Linear(input_dim, hidden_dim),\n",
    "            nn.ReLU(),\n",
    "            nn.Linear(hidden_dim, output_dim),\n",
    "        )\n",
    "\n",
    "    def forward(self, x):\n",
    "        return self.layers(x)\n",
    "\n",
    "\n",
    "model = SimpleMLP(20, 10, 1)\n",
    "# 20개의 feature를 가진 40개의 데이터\n",
    "X = torch.rand(size=(40, 20))\n",
    "# 모델을 이용해 예측하기\n",
    "y_pred = model(X)\n",
    "# 40개의 데이터에 대한 예측 출력 1개씩 40줄\n",
    "print(y_pred.size())\n",
    "y_pred\n",
    "\n"
   ]
  },
  {
   "cell_type": "markdown",
   "metadata": {},
   "source": [
    "# 숫자 판독기 만들기"
   ]
  },
  {
   "cell_type": "markdown",
   "metadata": {},
   "source": [
    "## 데이터 준비"
   ]
  },
  {
   "cell_type": "markdown",
   "metadata": {},
   "source": [
    "### 데이터 불러오기"
   ]
  },
  {
   "cell_type": "code",
   "execution_count": null,
   "metadata": {
    "colab": {
     "base_uri": "https://localhost:8080/",
     "height": 507
    },
    "executionInfo": {
     "elapsed": 9330,
     "status": "ok",
     "timestamp": 1760501620310,
     "user": {
      "displayName": "jeeho park",
      "userId": "02090712094119266150"
     },
     "user_tz": -540
    },
    "id": "-IFNkWtvs6Z-",
    "outputId": "936f9f13-3fc0-4cb6-ebc5-84b5cae9e44c"
   },
   "outputs": [],
   "source": [
    "import matplotlib.pyplot as plt\n",
    "from sklearn.datasets import load_digits\n",
    "\n",
    "digits = load_digits()\n",
    "X = digits.data.astype(np.float32)\n",
    "y = digits.target.astype(np.int64)\n",
    "\n",
    "fig, ax = plt.subplots(figsize=(13, 5), nrows=2, ncols=5)\n",
    "for i in range(10):\n",
    "    ax[i // 5, i % 5].imshow(X[i].reshape(8, 8), cmap=\"gray\")\n",
    "    ax[i // 5, i % 5].set_title(f\"Label: {y[i]}\")\n",
    "    ax[i // 5, i % 5].axis(\"off\")\n",
    "fig.tight_layout()"
   ]
  },
  {
   "cell_type": "markdown",
   "metadata": {},
   "source": [
    "### 학습 / 검증 데이터 분리 및 표준화"
   ]
  },
  {
   "cell_type": "code",
   "execution_count": null,
   "metadata": {
    "executionInfo": {
     "elapsed": 352,
     "status": "ok",
     "timestamp": 1760502051921,
     "user": {
      "displayName": "jeeho park",
      "userId": "02090712094119266150"
     },
     "user_tz": -540
    },
    "id": "smOvuHV5E3dB"
   },
   "outputs": [],
   "source": [
    "# TODO\n",
    "# 1. 데이터를 분할하고 표준화해줍니다.\n",
    "# 이번에는 검증데이터 (X_valid)과 테스트데이터 (X_test)까지 만들어줍시다.\n",
    "# X_test는 실제로 정답이 없는 처음 보는 데이터로 최종 성능을 확인해야할 데이터,\n",
    "# X_val은 중간중간 모델의 검증결과를 확인하기 위한 데이터입니다.\n",
    "# 학습데이터는 전체의 80%, 나머지 검증과 테스트데이터는 각각 10%씩 할당해주세요.\n",
    "# 난수는 위에서 정의된 `SEED`를 활용해주세요.\n",
    "# stratify 하는것도 잊지 마시구요.\n",
    "from sklearn.model_selection import train_test_split\n",
    "# 우선 8:2로 나누고\n",
    "X_train, X_temp, y_train, y_temp = train_test_split(\n",
    "    X, y, test_size=0.2, random_state=SEED, stratify=y\n",
    ")\n",
    "\n",
    "# 남은 2를 1:1로 나누자\n",
    "X_valid, X_test, y_valid, y_test = train_test_split(\n",
    "    X_temp, y_temp, test_size=0.5, random_state=SEED, stratify=y_temp\n",
    ")\n",
    "\n",
    "# 표준화\n",
    "from sklearn.preprocessing import StandardScaler\n",
    "scaler = StandardScaler().fit(X_train)\n",
    "X_train = scaler.transform(X_train)\n",
    "X_valid = scaler.transform(X_valid)\n",
    "X_test  = scaler.transform(X_test)"
   ]
  },
  {
   "cell_type": "markdown",
   "metadata": {},
   "source": [
    "### Dataset과 DataLoader"
   ]
  },
  {
   "cell_type": "code",
   "execution_count": null,
   "metadata": {
    "executionInfo": {
     "elapsed": 6,
     "status": "ok",
     "timestamp": 1760502446952,
     "user": {
      "displayName": "jeeho park",
      "userId": "02090712094119266150"
     },
     "user_tz": -540
    },
    "id": "61chpbC8GXJB"
   },
   "outputs": [],
   "source": [
    "# TODO\n",
    "# 2. PyTorch Dataset을 만들어줍니다\n",
    "# batch 처리방식을 기억하시나요?\n",
    "# 매번 X에서 인덱싱을 통해 데이터를 배치로 뽑아냈습니다.\n",
    "# 여간 귀찮은게 아니었는데요, 이를 간편하게 만들어주는 방식이 PyTorch에 존재합니다.\n",
    "\n",
    "# TODO:\n",
    "# 모든 데이터를 텐서로 변환해주세요\n",
    "X_train_t = torch.from_numpy(X_train)\n",
    "y_train_t = torch.from_numpy(y_train)\n",
    "X_valid_t = torch.from_numpy(X_valid)\n",
    "y_valid_t = torch.from_numpy(y_valid)\n",
    "X_test_t  = torch.from_numpy(X_test)\n",
    "y_test_t  = torch.from_numpy(y_test)\n",
    "\n",
    "# TODO:\n",
    "# Pytorch TensorDataset에 넣어줍시다.\n",
    "# https://docs.pytorch.org/docs/stable/data.html#torch.utils.data.TensorDataset\n",
    "\n",
    "# 하나의 데이터의 기준\n",
    "# - TensorDataset: index를 기준으로 하나의 샘플 데이터를 구분\n",
    "from torch.utils.data import TensorDataset\n",
    "train_ds = TensorDataset(X_train_t, y_train_t)\n",
    "valid_ds = TensorDataset(X_valid_t, y_valid_t)\n",
    "test_ds  = TensorDataset(X_test_t, y_test_t)\n",
    "\n",
    "# TODO:\n",
    "# 위에서 만든 TensorDataset을 DataLoader로 변환시켜줍니다.\n",
    "# 둘의 차이를 간단하게 설명하자면\n",
    "#   - Dataset: 데이터 하나를 어떻게 읽어올지 정의\n",
    "#   - DataLoader: 배치처리를 어떻게할지 정의\n",
    "# 따라서 DataLoader는 batch_size를 정의해줘야합니다.\n",
    "# 아래 설젛애둔 BATCH_SIZE를 활용해주세요.\n",
    "from torch.utils.data import DataLoader\n",
    "BATCH_SIZE = 32\n",
    "\n",
    "train_loader = DataLoader(train_ds, batch_size=BATCH_SIZE, shuffle=True)\n",
    "valid_loader = DataLoader(valid_ds, batch_size=BATCH_SIZE, shuffle=False)\n",
    "test_loader  = DataLoader(test_ds, batch_size=BATCH_SIZE, shuffle=False)"
   ]
  },
  {
   "cell_type": "code",
   "execution_count": null,
   "metadata": {
    "colab": {
     "base_uri": "https://localhost:8080/"
    },
    "executionInfo": {
     "elapsed": 26,
     "status": "ok",
     "timestamp": 1760502447786,
     "user": {
      "displayName": "jeeho park",
      "userId": "02090712094119266150"
     },
     "user_tz": -540
    },
    "id": "DJYZAcnhH1aI",
    "outputId": "2bbfc341-f6bd-4a57-9e8a-899b9065c767"
   },
   "outputs": [],
   "source": [
    "for idx, batch in enumerate(train_loader):\n",
    "    print(idx, batch)\n",
    "    print(len(batch[1]))\n",
    "    break"
   ]
  },
  {
   "cell_type": "markdown",
   "metadata": {},
   "source": [
    "## MLP 구현"
   ]
  },
  {
   "cell_type": "code",
   "execution_count": null,
   "metadata": {
    "executionInfo": {
     "elapsed": 4,
     "status": "ok",
     "timestamp": 1760503055485,
     "user": {
      "displayName": "jeeho park",
      "userId": "02090712094119266150"
     },
     "user_tz": -540
    },
    "id": "Yrz4qonIH3HW"
   },
   "outputs": [],
   "source": [
    "# TODO\n",
    "# 3. Multi-Layer Perceptron 구현하기\n",
    "# 가장 기본적인 MultiLayer Perceptron을 구현해주세요.\n",
    "# 계층은 총 3개입니다.\n",
    "# 입력표현 -> 은닉표현1 -> 은닉표현2 -> 출력표현\n",
    "# 입력값들은 `nn.Linear`를 통과한 뒤 ReLU를 거치고 Dropout을 거치도록 설계해주세요.\n",
    "# 제가 정의해준 `__init__` 안의 인자에 맞춰서 작업해주세요 :)\n",
    "\n",
    "class MLP(nn.Module):\n",
    "    def __init__(self,\n",
    "                 input_dim: int,\n",
    "                 num_classes: int,\n",
    "                 hidden_dims=(128, 64),\n",
    "                 dropout=0.2):\n",
    "        super().__init__()\n",
    "        h1, h2 = hidden_dims\n",
    "\n",
    "        self.net = nn.Sequential(\n",
    "            # 은닉1\n",
    "            nn.Linear(input_dim, h1),\n",
    "            # 활성화 + Dropout\n",
    "            nn.ReLU(),\n",
    "            nn.Dropout(p=dropout),\n",
    "            # 은닉2 (입력 차원은 은닉1의 출력차원)\n",
    "            nn.Linear(h1, h2),\n",
    "            # 활성화 + Dropout\n",
    "            nn.ReLU(),\n",
    "            nn.Dropout(p=dropout),\n",
    "            # 출력\n",
    "            nn.Linear(h2, num_classes),\n",
    "        )\n",
    "\n",
    "    def forward(self, x):\n",
    "        return self.net(x)"
   ]
  },
  {
   "cell_type": "markdown",
   "metadata": {},
   "source": [
    "## 학습 및 테스트"
   ]
  },
  {
   "cell_type": "code",
   "execution_count": null,
   "metadata": {
    "executionInfo": {
     "elapsed": 8,
     "status": "ok",
     "timestamp": 1760503174846,
     "user": {
      "displayName": "jeeho park",
      "userId": "02090712094119266150"
     },
     "user_tz": -540
    },
    "id": "aLu26CSdKMPM"
   },
   "outputs": [],
   "source": [
    "# 정답코드\n",
    "# 4. DataLoader, Model, Optimizer가 주어졌을 때\n",
    "# 학습데이터에 대해 model을 업데이트하는 코드를 작성해주세요.\n",
    "def train_one_epoch(model, loader, optimizer, device):\n",
    "    # 모델이 학습모드로 들어가게 설정해야합니다.\n",
    "    model.train()\n",
    "    running_loss = 0.0\n",
    "    correct = 0\n",
    "    total = 0\n",
    "    for xb, yb in loader:\n",
    "        # 데이터를 가속화기기로 보내주세요.\n",
    "        xb, yb = xb.to(device), yb.to(device)\n",
    "\n",
    "        # 위에서 배운 파라미터 업데이트 방식을 구현해주세요.\n",
    "        # 1. 모델의 출력 만들어주기\n",
    "        # 2. 미분값 지워주기 (zero_grad)\n",
    "        # 3. Loss 계산해주기: loss는 cross_entropy를 사용해주세요\n",
    "        #   - https://docs.pytorch.org/docs/stable/generated/torch.nn.functional.cross_entropy.html\n",
    "        # 4. 3에서 계산한 Loss를 기준으로 역전파를 수행합니다.\n",
    "        # 5. 파라미터 업데이트를 진행해주세요\n",
    "        optimizer.zero_grad()\n",
    "        logits = model(xb)\n",
    "        loss = torch.nn.functional.cross_entropy(logits, yb)\n",
    "        loss.backward()\n",
    "        optimizer.step()\n",
    "\n",
    "        # 파라미터 업데이트가 끝났으면 몇 가지를 기록해줍니다.\n",
    "        # 1. batch당 로스 계산 (running_loss에 업데이트)\n",
    "        # 2. 예측된 클래스 계산 (`preds`)\n",
    "        # 3. batch 내 정확도 계산 (batch 내에서 정답개수를 correct에 추가)\n",
    "        running_loss += loss.item() * xb.size(0)\n",
    "        preds = logits.argmax(dim=1)\n",
    "        correct += (preds == yb).sum().item()\n",
    "        total += yb.size(0)\n",
    "\n",
    "    # 위에서 잘 계산된 값들을 정리해서 반환합니다.\n",
    "    avg_loss = running_loss / total\n",
    "    acc = correct / total\n",
    "    return avg_loss, acc\n",
    "\n",
    "# 정답코드\n",
    "# 5. 이번에는 모델과 검증/테스트데이터가 입력으로 들어왔을 때 정확도를 계산해주는 코드를 작성해주세요.\n",
    "def evaluate(model, loader, device):\n",
    "    # 모델이 추론할 때는 추론모드로 설정해주어야합니다.\n",
    "    model.eval()\n",
    "    running_loss = 0.0\n",
    "    correct = 0\n",
    "    total = 0\n",
    "    all_preds = []\n",
    "    all_targets = []\n",
    "\n",
    "    # 미분그래프를 생성하지 않도록 컨텍스트를 생성해주셔야합니다.\n",
    "    with torch.no_grad():\n",
    "        for xb, yb in loader:\n",
    "            # 데이터로더에서 나온 배치를 `device`로 보내주세요.\n",
    "            xb, yb = xb.to(device), yb.to(device)\n",
    "\n",
    "            # 위에서 한 것과 비슷하게\n",
    "            # 모델의 출력값을 만들어 `logits`에 담고\n",
    "            # 현재 출력값 `logits`와 `yb` 사이의 Cross Entropy를 계산해주세요.\n",
    "            logits = model(xb)\n",
    "            loss = torch.nn.functional.cross_entropy(logits, yb)\n",
    "\n",
    "            # 이번에도 다음을 기록해줍니다.\n",
    "            # 1. batch당 로스 계산 (running_loss에 update)\n",
    "            # 2. 예측된 클래스 계산 (`preds`)\n",
    "            # 3. batch 내 정확도 계산 (batch 내에서 정답개수를 correct에 추가)\n",
    "            # 4. 후에 정확한 분류성능을 보기 위해 prediction 값들도 전부 기록해줍니다.\n",
    "            #  - all_preds, all_targets에 append해줍니다.\n",
    "            running_loss += loss.item() * xb.size(0)\n",
    "            preds = logits.argmax(dim=1)\n",
    "            correct += (preds == yb).sum().item()\n",
    "            total += yb.size(0)\n",
    "\n",
    "            all_preds.append(preds.cpu())\n",
    "            all_targets.append(yb.cpu())\n",
    "\n",
    "    # 위에서 잘 계산된 값들을 정리해서 반환합니다.\n",
    "    avg_loss = running_loss / total\n",
    "    acc = correct / total\n",
    "    preds_cat = torch.cat(all_preds).numpy()\n",
    "    targets_cat = torch.cat(all_targets).numpy()\n",
    "    return avg_loss, acc, preds_cat, targets_cat"
   ]
  },
  {
   "cell_type": "code",
   "execution_count": null,
   "metadata": {
    "colab": {
     "base_uri": "https://localhost:8080/"
    },
    "executionInfo": {
     "elapsed": 6823,
     "status": "ok",
     "timestamp": 1760503223279,
     "user": {
      "displayName": "jeeho park",
      "userId": "02090712094119266150"
     },
     "user_tz": -540
    },
    "id": "D_pKXUZ0KpYN",
    "outputId": "c1742d3d-e12a-48e7-d827-a980610a8041"
   },
   "outputs": [],
   "source": [
    "# 모든 것을 하나로!\n",
    "# 여러분이 코드를 잘 짰다면 아래 코드가 잘 작동할겁니다!\n",
    "# 에러가 뜬다면 에러메시지를 확인해서 잘 구현되도록 맞춰주세요.\n",
    "import os\n",
    "import math\n",
    "import time\n",
    "\n",
    "from sklearn.metrics import classification_report, confusion_matrix\n",
    "\n",
    "# device = torch.device(\"cuda\")\n",
    "model = MLP(\n",
    "    input_dim=64,\n",
    "    num_classes=10,\n",
    "    hidden_dims=(128, 64),\n",
    "    dropout=0.2\n",
    ").to(device)\n",
    "\n",
    "# 이번에는 지난 과제2에서 배웠던 Adam을 사용해봅시다.\n",
    "optimizer = torch.optim.Adam(model.parameters(), lr=1e-3, weight_decay=1e-4)\n",
    "\n",
    "best_val_loss = math.inf\n",
    "best_val_acc = -1.0\n",
    "epochs_no_improve = 0\n",
    "\n",
    "checkpoint_path = \"model.ckpt\"\n",
    "earlystop_patience = 5\n",
    "\n",
    "train_losses, train_accs = [], []\n",
    "valid_losses, valid_accs = [], []\n",
    "for epoch in range(1, 201):\n",
    "    t0 = time.time()\n",
    "    # 여러분이 정의한 `train_one_epoch`와 `evaluate`입니다.\n",
    "    train_loss, train_acc = train_one_epoch(model, train_loader, optimizer, device)\n",
    "    train_losses.append(train_loss)\n",
    "    train_accs.append(train_acc)\n",
    "\n",
    "    val_loss, val_acc, _, _ = evaluate(model, valid_loader, device)\n",
    "    valid_losses.append(val_loss)\n",
    "    valid_accs.append(val_acc)\n",
    "\n",
    "    dt = time.time() - t0\n",
    "    print(\n",
    "        f\"Epoch {epoch:03d} | \"\n",
    "        f\"train loss {train_loss:.4f} acc {train_acc*100:5.2f}% | \"\n",
    "        f\"val loss {val_loss:.4f} acc {val_acc*100:5.2f}% | \"\n",
    "        f\"{dt:.1f}s\"\n",
    "    )\n",
    "\n",
    "    # 🌟 개선 시 체크포인트 저장\n",
    "    improved = (val_loss < best_val_loss) or (val_acc > best_val_acc)\n",
    "    if improved:\n",
    "        best_val_loss = min(best_val_loss, val_loss)\n",
    "        best_val_acc = max(best_val_acc, val_acc)\n",
    "        torch.save({\n",
    "            'model_state_dict': model.state_dict(),\n",
    "            'input_dim': 64,\n",
    "            'num_classes': 10,\n",
    "        }, checkpoint_path)\n",
    "        epochs_no_improve = 0\n",
    "    else:\n",
    "        epochs_no_improve += 1\n",
    "\n",
    "    # 조기 종료\n",
    "    if epochs_no_improve >= earlystop_patience:\n",
    "        print(f\"Early stopping at epoch {epoch} (no improve {earlystop_patience})\")\n",
    "        break\n",
    "\n",
    "# 베스트 모델 로드 후 테스트 평가\n",
    "if os.path.exists(checkpoint_path):\n",
    "    ckpt = torch.load(checkpoint_path, map_location=device)\n",
    "    model.load_state_dict(ckpt['model_state_dict'])\n",
    "    print(f\"Loaded best checkpoint: val_best_acc={best_val_acc*100:.2f}% val_best_loss={best_val_loss:.4f}\")\n",
    "\n",
    "test_loss, test_acc, y_pred, y_true = evaluate(model, test_loader, device)\n",
    "print(\"\\n==== Test Result ====\")\n",
    "print(f\"Test loss: {test_loss:.4f}\")\n",
    "print(f\"Test acc : {test_acc*100:.2f}%\")\n",
    "\n",
    "# 분류 리포트 / 혼동행렬\n",
    "print(\"\\nClassification report:\")\n",
    "print(classification_report(y_true, y_pred, digits=4))\n",
    "\n",
    "print(\"Confusion matrix:\")\n",
    "print(confusion_matrix(y_true, y_pred))"
   ]
  },
  {
   "cell_type": "code",
   "execution_count": null,
   "metadata": {
    "id": "l_D4q7RUKziU"
   },
   "outputs": [],
   "source": []
  }
 ],
 "metadata": {
  "colab": {
   "authorship_tag": "ABX9TyPpA/iin3qUguOhmhGKzelL",
   "provenance": []
  },
  "kernelspec": {
   "display_name": "Python 3",
   "name": "python3"
  },
  "language_info": {
   "name": "python"
  }
 },
 "nbformat": 4,
 "nbformat_minor": 0
}
