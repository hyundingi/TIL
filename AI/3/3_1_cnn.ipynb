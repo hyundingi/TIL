{
  "nbformat": 4,
  "nbformat_minor": 0,
  "metadata": {
    "colab": {
      "provenance": [],
      "gpuType": "T4"
    },
    "kernelspec": {
      "name": "python3",
      "display_name": "Python 3"
    },
    "language_info": {
      "name": "python"
    },
    "accelerator": "GPU"
  },
  "cells": [
    {
      "cell_type": "code",
      "execution_count": 1,
      "metadata": {
        "colab": {
          "base_uri": "https://localhost:8080/"
        },
        "id": "lVPO__a35JGU",
        "outputId": "0fcdbd24-8b48-4b64-e419-194195cf1c86"
      },
      "outputs": [
        {
          "output_type": "stream",
          "name": "stdout",
          "text": [
            "사용 장치: cuda\n"
          ]
        }
      ],
      "source": [
        "import torch\n",
        "torch.cuda.is_available()\n",
        "\n",
        "device = torch.device('cpu')\n",
        "if torch.cuda.is_available():\n",
        "    # CUDA 사용 가능\n",
        "    device = torch.device('cuda')\n",
        "elif torch.backends.mps.is_available() and torch.backends.mps.is_built():\n",
        "    # Apple Silicon (MPS) 사용 가능\n",
        "    device = torch.device('mps')\n",
        "print(\"사용 장치:\", device)"
      ]
    },
    {
      "cell_type": "markdown",
      "source": [
        "# CNN (Convolutional Neural Network)"
      ],
      "metadata": {
        "id": "krm6FA737hUC"
      }
    },
    {
      "cell_type": "code",
      "source": [
        "import torch\n",
        "# pytorch 에서 제공하는 cv 라이브러리\n",
        "# 데이터 가져오기 , 모델, 이미지 변환\n",
        "import torchvision\n",
        "import torchvision.transforms as transforms"
      ],
      "metadata": {
        "id": "beQwjlv07gh6"
      },
      "execution_count": 2,
      "outputs": []
    },
    {
      "cell_type": "code",
      "source": [
        "# 데이터셋에 적용할 변환\n",
        "transform = transforms.Compose([\n",
        "    transforms.ToTensor(),\n",
        "    transforms.Normalize(mean=(0.4914, 0.4822, 0.4465), std=(0.2470, 0.2435, 0.2616),)\n",
        "])\n",
        "\n",
        "trainset = torchvision.datasets.CIFAR10(root='./data', train=True, download=True, transform=transform)\n",
        "testset = torchvision.datasets.CIFAR10(root='./data', train=False, download=True, transform=transform)"
      ],
      "metadata": {
        "colab": {
          "base_uri": "https://localhost:8080/"
        },
        "id": "ZefYRZ_28C0q",
        "outputId": "f3950621-895f-4d67-ea33-cfd3139d454b"
      },
      "execution_count": 3,
      "outputs": [
        {
          "output_type": "stream",
          "name": "stderr",
          "text": [
            "100%|██████████| 170M/170M [00:04<00:00, 40.7MB/s]\n"
          ]
        }
      ]
    },
    {
      "cell_type": "code",
      "source": [
        "import matplotlib.pyplot as plt\n",
        "import numpy as np\n",
        "\n",
        "# 이미지를 보여주기 위한 함수\n",
        "classes = ('plane', 'car', 'bird', 'cat', 'deer', 'dog', 'frog', 'horse', 'ship', 'truck')\n",
        "\n",
        "def imshow(img):\n",
        "    img = img / 2 + 0.5     # unnormalize\n",
        "    npimg = img.numpy()\n",
        "    plt.imshow(np.transpose(npimg, (1, 2, 0)))\n",
        "\n",
        "\n",
        "# 학습용 이미지를 무작위로 가져오기\n",
        "sampleloader = torch.utils.data.DataLoader(trainset, batch_size=4, shuffle=True)\n",
        "dataiter = iter(sampleloader)\n",
        "images, labels = next(dataiter)\n",
        "\n",
        "# 이미지 보여주기\n",
        "imshow(torchvision.utils.make_grid(images))\n",
        "# 정답(label) 출력\n",
        "print(' '.join('%5s' % classes[labels[j]] for j in range(4)))"
      ],
      "metadata": {
        "colab": {
          "base_uri": "https://localhost:8080/",
          "height": 250
        },
        "id": "N1RKwxv3-GWo",
        "outputId": "70d85c43-22ac-4e81-865c-dcbab1b7792d"
      },
      "execution_count": 4,
      "outputs": [
        {
          "output_type": "stream",
          "name": "stderr",
          "text": [
            "WARNING:matplotlib.image:Clipping input data to the valid range for imshow with RGB data ([0..1] for floats or [0..255] for integers). Got range [-0.49473685..1.5632443].\n"
          ]
        },
        {
          "output_type": "stream",
          "name": "stdout",
          "text": [
            "  cat   car   car truck\n"
          ]
        },
        {
          "output_type": "display_data",
          "data": {
            "text/plain": [
              "<Figure size 640x480 with 1 Axes>"
            ],
            "image/png": "[encoded data removed]"
          },
          "metadata": {}
        }
      ]
    },
    {
      "cell_type": "markdown",
      "source": [
        "### DataLoader 생성"
      ],
      "metadata": {
        "id": "izTkVoJe_GuH"
      }
    },
    {
      "cell_type": "code",
      "source": [
        "# 훈련용 로더\n",
        "trainloader = torch.utils.data.DataLoader(trainset, batch_size=128, shuffle=True)\n",
        "# 검증(테스트)용 로더\n",
        "testloader = torch.utils.data.DataLoader(testset, batch_size=128, shuffle=True)"
      ],
      "metadata": {
        "id": "380oaZps-sVQ"
      },
      "execution_count": 5,
      "outputs": []
    },
    {
      "cell_type": "markdown",
      "source": [
        "# CNN 학습하기"
      ],
      "metadata": {
        "id": "9ELnCd8S_Mnf"
      }
    },
    {
      "cell_type": "code",
      "source": [
        "import torch.nn as nn\n",
        "\n",
        "# 간단한 cnn 클래스\n",
        "class SimpleCNN(nn.Module):\n",
        "  def __init__(self, num_classes=10):\n",
        "    # 상속받은 클래스의 생성자\n",
        "    super().__init__()\n",
        "\n",
        "    # 특징 추출\n",
        "    # mlp에서 했었던 거 -> sequential (linear -> relu -> dropout -> linear -> relu -> dropout)\n",
        "    self.features = nn.Sequential(\n",
        "        # 첫번째 합성곱\n",
        "        # 입력되고자 하는 이미지의 채널(in_channels - RGB) - 채널마다 16개의 특성 찾기 / padding 을 넣어야 3*3 이 다 돌아볼 수 잇다\n",
        "        nn.Conv2d(in_channels=3, out_channels=16, kernel_size=3, padding=1),\n",
        "        nn.ReLU(), # 활성화 함수\n",
        "        nn.MaxPool2d(kernel_size=2, stride=2), # 풀\n",
        "        # 원래 이미지 : 32 * 32 -> 16 * 16 (풀 하면서 반토막남)\n",
        "        # 가로 세로 절반\n",
        "\n",
        "\n",
        "        # 두번째 합성곱\n",
        "        nn.Conv2d(in_channels=16, out_channels=32, kernel_size=3, padding=1),\n",
        "        nn.ReLU(),\n",
        "        nn.MaxPool2d(kernel_size=2, stride=2),\n",
        "    )\n",
        "    # 최종적으로 8*8 짜리 feature가 32개 생성\n",
        "\n",
        "\n",
        "    # 분류 - mlp\n",
        "    self.classifier = nn.Sequential(\n",
        "        nn.Linear(in_features=32*8*8, out_features=256),\n",
        "        nn.ReLU(),\n",
        "        nn.Linear(in_features=256, out_features=256),\n",
        "        nn.ReLU(),\n",
        "        # 출력층의 out_features는\n",
        "        nn.Linear(in_features=256, out_features=num_classes)\n",
        "    )\n",
        "\n",
        "  # 평탄화 작업 필요\n",
        "  def forward(self, x):\n",
        "    # 1. 특징 추출\n",
        "    x = self.features(x)\n",
        "    # 2. 32*8*8을 (32*8*8, 1) -> 벡터로\n",
        "    x = torch.flatten(x, start_dim=1)\n",
        "    # 3. 분류 시도\n",
        "    x = self.classifier(x)\n",
        "    return x"
      ],
      "metadata": {
        "id": "qGLCIgva_PQQ"
      },
      "execution_count": 16,
      "outputs": []
    },
    {
      "cell_type": "code",
      "source": [
        "model = SimpleCNN(num_classes=10).to(device)\n",
        "\n",
        "# 손실 함수와 옵티마이저\n",
        "criterion = nn.CrossEntropyLoss()\n",
        "optimizer = torch.optim.Adam(model.parameters(), lr=0.001)"
      ],
      "metadata": {
        "id": "Q0bMCx01FEtv"
      },
      "execution_count": 17,
      "outputs": []
    },
    {
      "cell_type": "code",
      "source": [
        "from tqdm import tqdm\n",
        "\n",
        "num_epochs = 10 # 10번 에포크 동안 학습\n",
        "\n",
        "for epoch in range(num_epochs):\n",
        "    # --- 훈련(Train) 단계 ---\n",
        "    model.train() # 모델을 학습 모드로 설정\n",
        "    running_loss = 0.0\n",
        "    # 진행률 바 설정\n",
        "    for i, data in enumerate(tqdm(trainloader), 0):\n",
        "        inputs, labels = data[0].to(device), data[1].to(device)\n",
        "        # inputs, labels = data[0], data[1]\n",
        "\n",
        "        # 1. 옵티마이저의 기울기를 0으로 초기화\n",
        "        optimizer.zero_grad()\n",
        "\n",
        "        # 2. 순전파(forward pass)\n",
        "        outputs = model(inputs)\n",
        "        # 3. 손실 계산\n",
        "        loss = criterion(outputs, labels)\n",
        "        # 4. 역전파(backward pass)\n",
        "        loss.backward()\n",
        "        # 5. 파라미터 업데이트\n",
        "        optimizer.step()\n",
        "\n",
        "        running_loss += loss.item()\n",
        "\n",
        "    print(f'[{epoch + 1}] 훈련 손실: {running_loss / len(trainloader):.3f}')\n",
        "\n",
        "    # --- 평가(Evaluation) 단계 ---\n",
        "    model.eval() # 모델을 평가 모드로 설정\n",
        "    correct = 0\n",
        "    total = 0\n",
        "    with torch.no_grad(): # 기울기 계산 비활성화\n",
        "        for data in testloader:\n",
        "            images, labels = data[0].to(device), data[1].to(device)\n",
        "            outputs = model(images)\n",
        "            _, predicted = torch.max(outputs.data, 1)\n",
        "            total += labels.size(0)\n",
        "            correct += (predicted == labels).sum().item()\n",
        "\n",
        "    print(f'[{epoch + 1}] 테스트 정확도: {100 * correct / total:.2f} %')\n",
        "\n",
        "print('학습 종료')"
      ],
      "metadata": {
        "colab": {
          "base_uri": "https://localhost:8080/"
        },
        "id": "5m7aMd6BF5Li",
        "outputId": "0eac339f-460d-4451-82f3-6be407f01fff"
      },
      "execution_count": 18,
      "outputs": [
        {
          "output_type": "stream",
          "name": "stderr",
          "text": [
            "100%|██████████| 391/391 [00:12<00:00, 30.10it/s]\n"
          ]
        },
        {
          "output_type": "stream",
          "name": "stdout",
          "text": [
            "[1] 훈련 손실: 1.430\n",
            "[1] 테스트 정확도: 57.75 %\n"
          ]
        },
        {
          "output_type": "stream",
          "name": "stderr",
          "text": [
            "100%|██████████| 391/391 [00:13<00:00, 28.65it/s]\n"
          ]
        },
        {
          "output_type": "stream",
          "name": "stdout",
          "text": [
            "[2] 훈련 손실: 1.048\n",
            "[2] 테스트 정확도: 63.29 %\n"
          ]
        },
        {
          "output_type": "stream",
          "name": "stderr",
          "text": [
            "100%|██████████| 391/391 [00:13<00:00, 29.53it/s]\n"
          ]
        },
        {
          "output_type": "stream",
          "name": "stdout",
          "text": [
            "[3] 훈련 손실: 0.884\n",
            "[3] 테스트 정확도: 68.18 %\n"
          ]
        },
        {
          "output_type": "stream",
          "name": "stderr",
          "text": [
            "100%|██████████| 391/391 [00:12<00:00, 30.25it/s]\n"
          ]
        },
        {
          "output_type": "stream",
          "name": "stdout",
          "text": [
            "[4] 훈련 손실: 0.764\n",
            "[4] 테스트 정확도: 69.50 %\n"
          ]
        },
        {
          "output_type": "stream",
          "name": "stderr",
          "text": [
            "100%|██████████| 391/391 [00:13<00:00, 29.48it/s]\n"
          ]
        },
        {
          "output_type": "stream",
          "name": "stdout",
          "text": [
            "[5] 훈련 손실: 0.654\n",
            "[5] 테스트 정확도: 70.22 %\n"
          ]
        },
        {
          "output_type": "stream",
          "name": "stderr",
          "text": [
            "100%|██████████| 391/391 [00:13<00:00, 30.08it/s]\n"
          ]
        },
        {
          "output_type": "stream",
          "name": "stdout",
          "text": [
            "[6] 훈련 손실: 0.555\n",
            "[6] 테스트 정확도: 71.36 %\n"
          ]
        },
        {
          "output_type": "stream",
          "name": "stderr",
          "text": [
            "100%|██████████| 391/391 [00:12<00:00, 30.21it/s]\n"
          ]
        },
        {
          "output_type": "stream",
          "name": "stdout",
          "text": [
            "[7] 훈련 손실: 0.460\n",
            "[7] 테스트 정확도: 71.43 %\n"
          ]
        },
        {
          "output_type": "stream",
          "name": "stderr",
          "text": [
            "100%|██████████| 391/391 [00:13<00:00, 29.69it/s]\n"
          ]
        },
        {
          "output_type": "stream",
          "name": "stdout",
          "text": [
            "[8] 훈련 손실: 0.370\n",
            "[8] 테스트 정확도: 70.72 %\n"
          ]
        },
        {
          "output_type": "stream",
          "name": "stderr",
          "text": [
            "100%|██████████| 391/391 [00:13<00:00, 29.30it/s]\n"
          ]
        },
        {
          "output_type": "stream",
          "name": "stdout",
          "text": [
            "[9] 훈련 손실: 0.290\n",
            "[9] 테스트 정확도: 70.65 %\n"
          ]
        },
        {
          "output_type": "stream",
          "name": "stderr",
          "text": [
            "100%|██████████| 391/391 [00:15<00:00, 25.73it/s]\n"
          ]
        },
        {
          "output_type": "stream",
          "name": "stdout",
          "text": [
            "[10] 훈련 손실: 0.231\n",
            "[10] 테스트 정확도: 70.10 %\n",
            "학습 종료\n"
          ]
        }
      ]
    },
    {
      "cell_type": "code",
      "source": [
        "sampleloader = torch.utils.data.DataLoader(testset, batch_size=4, shuffle=True)\n",
        "dataiter = iter(sampleloader)\n",
        "images, labels = next(dataiter)\n",
        "\n",
        "# 이미지 출력\n",
        "imshow(torchvision.utils.make_grid(images))\n",
        "print('GroundTruth: ', ' '.join('%5s' % classes[labels[j]] for j in range(4)))"
      ],
      "metadata": {
        "colab": {
          "base_uri": "https://localhost:8080/",
          "height": 250
        },
        "id": "Ze0G5X_RKSEf",
        "outputId": "d3a26474-0ccc-46ce-c39c-38f3ffc19fc5"
      },
      "execution_count": 19,
      "outputs": [
        {
          "output_type": "stream",
          "name": "stderr",
          "text": [
            "WARNING:matplotlib.image:Clipping input data to the valid range for imshow with RGB data ([0..1] for floats or [0..255] for integers). Got range [-0.49473685..1.5632443].\n"
          ]
        },
        {
          "output_type": "stream",
          "name": "stdout",
          "text": [
            "GroundTruth:   frog  ship  deer  frog\n"
          ]
        },
        {
          "output_type": "display_data",
          "data": {
            "text/plain": [
              "<Figure size 640x480 with 1 Axes>"
            ],
            "image/png": "[encoded data removed]"
          },
          "metadata": {}
        }
      ]
    },
    {
      "cell_type": "code",
      "source": [
        "outputs = model(images.to(device))\n",
        "_, predicted = torch.max(outputs.data, 1)\n",
        "\n",
        "print('Predicted: ', ' '.join(f'{classes[predicted[j]]:5s}' for j in range(4)))"
      ],
      "metadata": {
        "colab": {
          "base_uri": "https://localhost:8080/"
        },
        "id": "8WpTZ9l6KUen",
        "outputId": "560c55de-99e3-467b-9fcc-6a7acb4a28f2"
      },
      "execution_count": 20,
      "outputs": [
        {
          "output_type": "stream",
          "name": "stdout",
          "text": [
            "Predicted:  frog  bird  deer  cat  \n"
          ]
        }
      ]
    },
    {
      "cell_type": "code",
      "source": [
        "from PIL import Image\n",
        "\n",
        "image_file = 'cat.jpeg'\n",
        "image = Image.open(image_file).convert('RGB')\n",
        "\n",
        "# 훈련 시 사용했던 전처리 과정을 그대로 정의\n",
        "inference_transform = transforms.Compose([\n",
        "    transforms.Resize((32, 32)), # 1. 32x32 크기로 리사이즈\n",
        "    transforms.ToTensor(),       # 2. 텐서로 변환\n",
        "    # 3. 훈련 때와 \"동일한\" 값으로 정규화\n",
        "    transforms.Normalize(mean=(0.4914, 0.4822, 0.4465), std=(0.2470, 0.2435, 0.2616))\n",
        "])\n",
        "\n",
        "# 전처리 적용\n",
        "input_tensor = inference_transform(image)\n",
        "\n",
        "# 전처리 된 이미지 확인\n",
        "print(input_tensor.shape) # torch.Size([3, 32, 32])\n",
        "\n",
        "# 1. 모델을 평가 모드로 전환\n",
        "model.eval()\n",
        "\n",
        "# 2. 배치 차원 추가 및 장치로 이동\n",
        "input_batch = input_tensor.unsqueeze(0).to(device)\n",
        "# input_batch = input_tensor.unsqueeze(0)\n",
        "\n",
        "# 3. 기울기 계산을 하지 않도록 설정\n",
        "with torch.no_grad():\n",
        "    output = model(input_batch)\n",
        "\n",
        "# 4. 출력(Logits)을 확률(Probabilities)로 변환\n",
        "# Softmax 함수는 모든 클래스에 대한 점수의 합이 1이 되도록 만듬\n",
        "probabilities = torch.nn.functional.softmax(output[0], dim=0)\n",
        "\n",
        "# 5. 가장 확률이 높은 클래스 찾기\n",
        "top_prob, top_catid = torch.max(probabilities, 0)\n",
        "predicted_idx = top_catid.item()\n",
        "\n",
        "# CIFAR-10 클래스 이름 가져오기\n",
        "class_names = trainset.classes # ['airplane', 'automobile', 'bird', 'cat', ...]\n",
        "predicted_label = class_names[predicted_idx]\n",
        "\n",
        "print(f\"모델의 예측: '{predicted_label}' (신뢰도: {top_prob.item()*100:.2f}%)\")"
      ],
      "metadata": {
        "colab": {
          "base_uri": "https://localhost:8080/"
        },
        "id": "7EszpO95KDlA",
        "outputId": "78b6538e-59aa-40b2-acd1-e04a57d003db"
      },
      "execution_count": 22,
      "outputs": [
        {
          "output_type": "stream",
          "name": "stdout",
          "text": [
            "torch.Size([3, 32, 32])\n",
            "모델의 예측: 'cat' (신뢰도: 99.77%)\n"
          ]
        }
      ]
    }
  ]
}